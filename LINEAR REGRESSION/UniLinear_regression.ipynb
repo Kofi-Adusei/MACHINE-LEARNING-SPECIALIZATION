{
 "cells": [
  {
   "cell_type": "markdown",
   "id": "246e3ba1",
   "metadata": {},
   "source": [
    "# Univariate Regression: Housing Prediction"
   ]
  },
  {
   "cell_type": "code",
   "execution_count": 2,
   "id": "b9918ee8",
   "metadata": {},
   "outputs": [],
   "source": [
    "import numpy as np\n",
    "import matplotlib.pyplot as plt\n",
    "from utils import *\n",
    "import copy\n",
    "import math\n",
    "import sklearn\n",
    "from sklearn import*\n",
    "%matplotlib inline\n",
    "\n",
    "from sklearn import datasets, linear_model\n",
    "from sklearn.metrics import mean_squared_error, r2_score"
   ]
  },
  {
   "cell_type": "code",
   "execution_count": 3,
   "id": "f9030b69",
   "metadata": {},
   "outputs": [],
   "source": [
    "def load_data(path):\n",
    "    data = np.loadtxt(path, delimiter=',')\n",
    "    X = data[:,0]\n",
    "    y = data[:,1]\n",
    "    return X,y"
   ]
  },
  {
   "cell_type": "code",
   "execution_count": 4,
   "id": "f661c2d4",
   "metadata": {},
   "outputs": [],
   "source": [
    "X_train,y_train = load_data(\"linear_regression/ex1data1.txt\")"
   ]
  },
  {
   "cell_type": "code",
   "execution_count": 5,
   "id": "3ce244b1",
   "metadata": {},
   "outputs": [
    {
     "name": "stdout",
     "output_type": "stream",
     "text": [
      "First five elements in X_train are:\n",
      " [6.1101 5.5277 8.5186 7.0032 5.8598]\n",
      "Type of X_train: <class 'numpy.ndarray'>\n"
     ]
    }
   ],
   "source": [
    "print(\"First five elements in X_train are:\\n\", X_train[:5])\n",
    "print(\"Type of X_train:\",type(X_train))"
   ]
  },
  {
   "cell_type": "code",
   "execution_count": 6,
   "id": "541cf75d",
   "metadata": {},
   "outputs": [
    {
     "name": "stdout",
     "output_type": "stream",
     "text": [
      "First five elements in y_train are:\n",
      " [17.592   9.1302 13.662  11.854   6.8233]\n",
      "Type of y_train: <class 'numpy.ndarray'>\n"
     ]
    }
   ],
   "source": [
    "print(\"First five elements in y_train are:\\n\", y_train[:5])\n",
    "print(\"Type of y_train:\",type(y_train))"
   ]
  },
  {
   "cell_type": "markdown",
   "id": "821605ae",
   "metadata": {},
   "source": [
    "## Using Scikit Learn To Test Linear Regression"
   ]
  },
  {
   "cell_type": "code",
   "execution_count": 7,
   "id": "6f11b761",
   "metadata": {},
   "outputs": [],
   "source": [
    "# Create linear regression object\n",
    "regr = linear_model.LinearRegression()"
   ]
  },
  {
   "cell_type": "code",
   "execution_count": 8,
   "id": "8673d61c",
   "metadata": {},
   "outputs": [],
   "source": [
    "# Train the model using the training sets\n",
    "#regr.fit(X_train, y_train)"
   ]
  },
  {
   "cell_type": "code",
   "execution_count": 9,
   "id": "28ce1c04",
   "metadata": {},
   "outputs": [],
   "source": [
    "# Make predictions using the testing set\n",
    "#diabetes_y_pred = regr.predict(X_train)"
   ]
  },
  {
   "cell_type": "markdown",
   "id": "b07b3003",
   "metadata": {},
   "source": [
    "## Visualization Using Scikit Learning"
   ]
  },
  {
   "cell_type": "code",
   "execution_count": 10,
   "id": "312c2a38",
   "metadata": {},
   "outputs": [],
   "source": [
    "# The mean squared error\n",
    "#print(\"Mean squared error: %.2f\" % mean_squared_error(X_train, y_train))\n",
    "# The coefficient of determination: 1 is perfect prediction\n",
    "#print(\"Coefficient of determination: %.2f\" % r2_score(X_train, y_train))\n",
    "\n",
    "# Plot outputs\n",
    "#plt.scatter(X_train, y_train,marker='x', color=\"red\")\n",
    "#plt.plot(X_train, y_train, color=\"blue\", linewidth=3)\n",
    "\n",
    "#plt.xticks(())\n",
    "#plt.yticks(())\n",
    "\n",
    "#plt.show()"
   ]
  },
  {
   "cell_type": "code",
   "execution_count": 11,
   "id": "50e5572c",
   "metadata": {},
   "outputs": [
    {
     "data": {
      "image/png": "[encoded data removed]",
      "text/plain": [
       "<Figure size 640x480 with 1 Axes>"
      ]
     },
     "metadata": {},
     "output_type": "display_data"
    }
   ],
   "source": [
    "plt.scatter(X_train,y_train, marker='+', c='b')\n",
    "plt.title(\"Profit Vs Population per City\")\n",
    "plt.ylabel(\"Profit in 10,000\")\n",
    "plt.xlabel(\"Population per City in 10,000s\")\n",
    "plt.show()"
   ]
  },
  {
   "cell_type": "code",
   "execution_count": 12,
   "id": "70a6f509",
   "metadata": {},
   "outputs": [],
   "source": [
    "def predict(X,w,b):\n",
    "    \n",
    "    m = X.shape[0]\n",
    "    f_wb = np.zeros(m)\n",
    "    #m = len(X)\n",
    "    for i in range(m):\n",
    "        f_wb =w*X[i] + b\n",
    "        #f_wb = np.dot(X[i],w)+b\n",
    "    return  f_wb"
   ]
  },
  {
   "cell_type": "code",
   "execution_count": 13,
   "id": "12875e54",
   "metadata": {},
   "outputs": [
    {
     "name": "stdout",
     "output_type": "stream",
     "text": [
      "<class 'numpy.float64'>\n",
      "prediction model at initial w,b: 14.874\n"
     ]
    }
   ],
   "source": [
    "inital_w=2\n",
    "inital_b=4\n",
    "\n",
    "uniRegression = predict(X_train,inital_w,inital_b)\n",
    "print(type(uniRegression))\n",
    "print(f'prediction model at initial w,b: {uniRegression:.3f}')"
   ]
  },
  {
   "cell_type": "code",
   "execution_count": 14,
   "id": "f96372b8",
   "metadata": {},
   "outputs": [],
   "source": [
    "def compute_Cost(X,y,w,b):\n",
    "    \n",
    "    # number of training examples\n",
    "    m = X.shape[0] \n",
    "    m = len(X)\n",
    "    cost_sum=0\n",
    "    #f_wb_x=0\n",
    "    \n",
    "    #f_wb_x=linear_model(X,w,b)\n",
    "    for i in range(m):\n",
    "        \n",
    "        f_wb_x =X[i]*w + b\n",
    "        cost = (f_wb_x - y[i])**2\n",
    "        cost_sum +=  cost\n",
    "    total_cost =cost_sum/(2*m)\n",
    "    return total_cost"
   ]
  },
  {
   "cell_type": "code",
   "execution_count": 15,
   "id": "1701f2bd",
   "metadata": {},
   "outputs": [
    {
     "name": "stdout",
     "output_type": "stream",
     "text": [
      "<class 'numpy.float64'>\n",
      "Cost at initial w: 75.203\n"
     ]
    }
   ],
   "source": [
    "cost = compute_Cost(X_train,y_train, 2,1)\n",
    "print(type(cost))\n",
    "print(f'Cost at initial w: {cost:.3f}')"
   ]
  },
  {
   "cell_type": "code",
   "execution_count": 16,
   "id": "08ac34aa",
   "metadata": {},
   "outputs": [],
   "source": [
    "def computeGradient(X,y,w,b):\n",
    "    \n",
    "    dw=0\n",
    "    db=0\n",
    "    #f_wb = linear_model(w,b)\n",
    "    for i in range(len(X_train)):\n",
    "        \n",
    "        f_wb = X[i]*w + b\n",
    "        dw_i = (f_wb - y[i])*X[i]\n",
    "        db_i = f_wb - y[i] \n",
    "        dw += dw_i\n",
    "        db += db_i\n",
    "        \n",
    "    dw = dw/len(X_train)\n",
    "    db = db/len(X_train)\n",
    "        \n",
    "    return dw,db"
   ]
  },
  {
   "cell_type": "code",
   "execution_count": 17,
   "id": "3e7b7694",
   "metadata": {},
   "outputs": [],
   "source": [
    "gradw,gradb = computeGradient(X_train,y_train,0,0)"
   ]
  },
  {
   "cell_type": "code",
   "execution_count": 18,
   "id": "c080a6cb",
   "metadata": {},
   "outputs": [
    {
     "name": "stdout",
     "output_type": "stream",
     "text": [
      "Initial dw= -65.32884974555672 and Initial db= -5.83913505154639\n"
     ]
    }
   ],
   "source": [
    " print(f'Initial dw= {gradw} and Initial db= {gradb}')"
   ]
  },
  {
   "cell_type": "code",
   "execution_count": 19,
   "id": "4215ac55",
   "metadata": {},
   "outputs": [],
   "source": [
    "def computeGradientDescent(X,y,w_in,b_in,costFunction,gradientFunction,alpha,num_iteration):\n",
    "    \n",
    "    \n",
    "    J_history = []\n",
    "    w_history = []\n",
    "    w = copy.deepcopy(w_in)\n",
    "    b= b_in\n",
    "    dj_dw = 0\n",
    "    dj_db = 0 \n",
    "    \n",
    "    for i in range(num_iteration):\n",
    "        \n",
    "        gradw,gradb = gradientFunction(X,y,w,b)\n",
    "        \n",
    "        w = w - alpha * gradw\n",
    "        b = b - alpha * gradb\n",
    "        \n",
    "        if i < 100000:\n",
    "            cost = costFunction(X,y,w,b)\n",
    "            J_history.append(cost)\n",
    "            \n",
    "        if i%math.ceil(num_iteration/10) == 0:\n",
    "            w_history.append(w)\n",
    "            print(f\"Iteration {i:4}: Cost {float(J_history[-1]):8.2f}   \")\n",
    "        \n",
    "    return w, b, J_history, w_history"
   ]
  },
  {
   "cell_type": "code",
   "execution_count": 20,
   "id": "9b1ae4a3",
   "metadata": {},
   "outputs": [
    {
     "name": "stdout",
     "output_type": "stream",
     "text": [
      "Iteration    0: Cost     6.74   \n",
      "Iteration  150: Cost     5.31   \n",
      "Iteration  300: Cost     4.96   \n",
      "Iteration  450: Cost     4.76   \n",
      "Iteration  600: Cost     4.64   \n",
      "Iteration  750: Cost     4.57   \n",
      "Iteration  900: Cost     4.53   \n",
      "Iteration 1050: Cost     4.51   \n",
      "Iteration 1200: Cost     4.50   \n",
      "Iteration 1350: Cost     4.49   \n",
      "w,b found by gradient descent: 1.166362350335582 -3.63029143940436\n"
     ]
    }
   ],
   "source": [
    "initial_w = 0.\n",
    "initial_b = 0.\n",
    "\n",
    "# some gradient descent settings\n",
    "iterations = 1500\n",
    "alpha = 0.01\n",
    "\n",
    "w,b,_,_ = computeGradientDescent(X_train ,y_train, initial_w, initial_b, \n",
    "                     compute_Cost, computeGradient, alpha, iterations)\n",
    "print(\"w,b found by gradient descent:\", w, b)"
   ]
  },
  {
   "cell_type": "code",
   "execution_count": 21,
   "id": "7f31ad5e",
   "metadata": {},
   "outputs": [
    {
     "name": "stdout",
     "output_type": "stream",
     "text": [
      "value of w:1.166362350335582, value of b:-3.63029143940436\n"
     ]
    }
   ],
   "source": [
    "m = X_train.shape[0]\n",
    "predicted = np.zeros(m)\n",
    "\n",
    "for i in range(m):\n",
    "    predicted[i] = w * X_train[i] + b\n",
    "    #print(f\"prediction: { predicted[i]:0.2f}, target value: {y_train[i]}\")\n",
    "    #print(f\"prediction: {np.dot(X_train[i], w) + b:0.2f}, target value: {y_train[i]}\")\n",
    "print(f\"value of w:{w}, value of b:{b}\")"
   ]
  },
  {
   "cell_type": "code",
   "execution_count": 22,
   "id": "4602553d",
   "metadata": {},
   "outputs": [
    {
     "data": {
      "text/plain": [
       "Text(0.5, 0, 'Population of City in 10,000s')"
      ]
     },
     "execution_count": 22,
     "metadata": {},
     "output_type": "execute_result"
    },
    {
     "data": {
      "image/png": "[encoded data removed]",
      "text/plain": [
       "<Figure size 640x480 with 1 Axes>"
      ]
     },
     "metadata": {},
     "output_type": "display_data"
    }
   ],
   "source": [
    "# Create a scatter plot of the data. \n",
    "plt.scatter(X_train, y_train, marker='x', c='b') \n",
    "\n",
    "# Plot the linear fit\n",
    "plt.plot(X_train, predicted, c = \"r\")\n",
    "\n",
    "# Set the title\n",
    "plt.title(\"Profits vs. Population per city\")\n",
    "# Set the y-axis label\n",
    "plt.ylabel('Profit in $10,000')\n",
    "# Set the x-axis label\n",
    "plt.xlabel('Population of City in 10,000s')"
   ]
  },
  {
   "cell_type": "code",
   "execution_count": 23,
   "id": "02316fd8",
   "metadata": {},
   "outputs": [
    {
     "name": "stdout",
     "output_type": "stream",
     "text": [
      "Train Accuracy: 79.38%\n"
     ]
    }
   ],
   "source": [
    "p = predict(X_train, w, b)\n",
    "accuracy =(np.mean(p - y_train <=0.9)* 100)\n",
    "print(f'Train Accuracy: {accuracy:.2f}' +'%')"
   ]
  },
  {
   "cell_type": "markdown",
   "id": "30d8c146",
   "metadata": {},
   "source": [
    "## Test the Model with new data "
   ]
  },
  {
   "cell_type": "code",
   "execution_count": 24,
   "id": "68484f02",
   "metadata": {},
   "outputs": [
    {
     "name": "stdout",
     "output_type": "stream",
     "text": [
      "For population = 44,0000, we predict a profit of $15017.03\n"
     ]
    }
   ],
   "source": [
    "prediction = 4.4*w + b\n",
    "print('For population = 44,0000, we predict a profit of $%.2f' % (prediction*10000))"
   ]
  },
  {
   "cell_type": "markdown",
   "id": "96bb8f67",
   "metadata": {},
   "source": [
    "<a name=\"2.7\"></a>\n",
    "### Congratulations! ADUSEI ASARE\n",
    "You build your first linear regression app(House Pricing prediction) with single input(x-size, of plot)"
   ]
  },
  {
   "cell_type": "code",
   "execution_count": null,
   "id": "139ba349",
   "metadata": {},
   "outputs": [],
   "source": []
  }
 ],
 "metadata": {
  "kernelspec": {
   "display_name": "Python 3 (ipykernel)",
   "language": "python",
   "name": "python3"
  },
  "language_info": {
   "codemirror_mode": {
    "name": "ipython",
    "version": 3
   },
   "file_extension": ".py",
   "mimetype": "text/x-python",
   "name": "python",
   "nbconvert_exporter": "python",
   "pygments_lexer": "ipython3",
   "version": "3.10.7"
  }
 },
 "nbformat": 4,
 "nbformat_minor": 5
}
